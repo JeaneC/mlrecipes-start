{
 "cells": [
  {
   "cell_type": "markdown",
   "metadata": {},
   "source": [
    "# Recipe 4 - Let's Write A Pipeline"
   ]
  },
  {
   "cell_type": "markdown",
   "metadata": {},
   "source": [
    "<a href=\"https://www.youtube.com/watch?v=84gqSbLcBFE\n",
    "\" target=\"\\_blank\"><img src=\"http://img.youtube.com/vi/84gqSbLcBFE/0.jpg\" \n",
    "width=\"480\" height=\"360\" border=\"10\" /></a>\n",
    "\n",
    "---\n",
    "\n",
    "Common practice is to partition data. Save some data for training and some data for testing. This way we have data immediately to verify the classifier"
   ]
  },
  {
   "cell_type": "code",
   "execution_count": 11,
   "metadata": {},
   "outputs": [
    {
     "name": "stdout",
     "output_type": "stream",
     "text": [
      "Decision Tree Classifier\n",
      "0.933333333333\n",
      "\n",
      "A\n",
      "0.92\n"
     ]
    }
   ],
   "source": [
    "from sklearn import datasets\n",
    "iris = datasets.load_iris()\n",
    "\n",
    "# One way to think of classifiers is a function\n",
    "# f(x)=y\n",
    "# x is input, y is output\n",
    "\n",
    "x = iris.data\n",
    "y = iris.target\n",
    "\n",
    "from sklearn.cross_validation import train_test_split\n",
    "x_train, x_test, y_train, y_test = train_test_split(x, y, test_size = .5) #Split training data in half\n",
    "\n",
    "from sklearn import tree\n",
    "my_classifier = tree.DecisionTreeClassifier()\n",
    "my_classifier.fit(x_train, y_train)\n",
    "\n",
    "predictions = my_classifier.predict(x_test)\n",
    "\n",
    "from sklearn.metrics import accuracy_score\n",
    "print(\"Decision Tree Classifier\")\n",
    "print(accuracy_score(y_test, predictions))\n",
    "\n",
    "#### Different Classifier, but Same Result\n",
    "print(\"KNeighbors Classifier\")\n",
    "print(\"A\")\n",
    "from sklearn.neighbors import KNeighborsClassifier\n",
    "my_classifier2 = KNeighborsClassifier()\n",
    "my_classifier2.fit(x_train, y_train)\n",
    "\n",
    "predictions = my_classifier2.predict(x_test)\n",
    "\n",
    "from sklearn.metrics import accuracy_score\n",
    "print(accuracy_score(y_test, predictions))\n",
    "\n",
    "# The interface for the classifiers are nearly the same"
   ]
  },
  {
   "cell_type": "markdown",
   "metadata": {},
   "source": [
    "## What does it mean to learn from data?\n",
    "__Note:__ The video does a good job of explaining this.\n",
    "\n",
    "Our prediction is similar to a function. Think of a function as a model. A simple function is the line function y = mx + b\n",
    "\n",
    "```python\n",
    "def classify(features):\n",
    "    # logic here\n",
    "    return label\n",
    "    ```\n",
    " \n",
    "Given some training data, we can find out the equation of a line, and then tell the points of any data sets. The line in this case is the __classifier__. In y = mx + b, there are two parameters (m and b), and the goal is to find the right m and b for the training data.\n",
    "\n",
    "We train our classifier by giving it data. Each data point we give our classifier will adjust the line (change the m and b value to better fit the data). For instance if it gets it right, the line stays the same, else the line adjusts"
   ]
  }
 ],
 "metadata": {
  "kernelspec": {
   "display_name": "Python 3",
   "language": "python",
   "name": "python3"
  },
  "language_info": {
   "codemirror_mode": {
    "name": "ipython",
    "version": 3
   },
   "file_extension": ".py",
   "mimetype": "text/x-python",
   "name": "python",
   "nbconvert_exporter": "python",
   "pygments_lexer": "ipython3",
   "version": "3.6.1"
  }
 },
 "nbformat": 4,
 "nbformat_minor": 2
}
