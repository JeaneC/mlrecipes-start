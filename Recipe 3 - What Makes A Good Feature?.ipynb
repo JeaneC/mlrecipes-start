{
 "cells": [
  {
   "cell_type": "markdown",
   "metadata": {},
   "source": [
    "# Recipe 3 - What Makes A Good Feature?"
   ]
  },
  {
   "cell_type": "markdown",
   "metadata": {
    "collapsed": true
   },
   "source": [
    "<a href=\"https://www.youtube.com/watch?v=N9fDIAflCMY\n",
    "\" target=\"\\_blank\"><img src=\"http://img.youtube.com/vi/N9fDIAflCMY/0.jpg\" \n",
    "width=\"480\" height=\"360\" border=\"10\" /></a>\n",
    "\n",
    "---\n",
    "\n",
    "## Classifier To Tell Difference Between Greyhound And Labrador\n",
    "Will be trained using two features: Height(in) and Eye Color(blue or brown)\n",
    "\n",
    "Assumptions\n",
    "- Greyhounds are usually taller than labradors\n",
    "- Dogs only have two eye colors\n",
    "- Color of their eyes doesn't depend on the breed of the dog\n",
    "\n",
    "We can already see that these assumptions are very simple and won't work in a lot of cases\n",
    "\n"
   ]
  },
  {
   "cell_type": "code",
   "execution_count": 25,
   "metadata": {},
   "outputs": [
    {
     "data": {
      "image/png": "[encoded data removed]",
      "text/plain": [
       "<matplotlib.figure.Figure at 0x1158fbb38>"
      ]
     },
     "metadata": {},
     "output_type": "display_data"
    }
   ],
   "source": [
    "import numpy as np\n",
    "import matplotlib.pyplot as plt\n",
    "\n",
    "##---Create Data---##\n",
    "greyhounds = 500\n",
    "labs = 500\n",
    "\n",
    "grey_height = 28 + 4 * np.random.randn(greyhounds) #Generate 500 random data sets for greyhounds\n",
    "lab_height = 24 + 4 * np.random.randn(labs)\n",
    "\n",
    "##---End Create Data---##\n",
    "\n",
    "plt.hist([grey_height, lab_height], stacked=True, color =['r','b'], rwidth=0.5, label=\"hi\")\n",
    "plt.xlabel('Height', fontsize=14)\n",
    "plt.ylabel('# Of Dogs', fontsize=14)\n",
    "plt.show()"
   ]
  },
  {
   "cell_type": "markdown",
   "metadata": {},
   "source": [
    "- Red = Greyhounds, Blue = Labradors\n",
    "- On the left side, the height is lower, which is why blue (Labradors) are more dominant\n",
    "- If we found a dog that was about 38 inches tall, we can be about 95% confident that it is a greyhound\n",
    "- We see the drawback to this feature in the middle, where Labs/Dogs are neck to neck. Our confidence for either is around 50%"
   ]
  },
  {
   "cell_type": "markdown",
   "metadata": {},
   "source": [
    "## Think about what features are important\n",
    "- What features would you think about to classify a dog as a Lab or Greyhound\n",
    "\n",
    "## How many features?\n",
    "- Think about how many it would take you to solve the problem\n",
    "\n",
    "## What are some good/bad pracitces for features\n",
    "- A feature like eyecolor is almost useless in this case because the distribution would probably be 50-50. Features like this can messup our classifiers. This is an example of a bad feature\n",
    "- Independent features are usually very good\n",
    "- Avoid redundant features. For instance one can have a feature of the height in inches and another feature of the height in centimeters. The classifier might double count its importance\n",
    "- Features should be easy to understand. If you were asked to find the time it took to travel X miles. You would take training data that has miles and days, not longitude/latitude and days\n",
    "\n",
    "Ideal Features Are\n",
    "- Informative\n",
    "- Independent\n",
    "- Simple"
   ]
  }
 ],
 "metadata": {
  "kernelspec": {
   "display_name": "Python 3",
   "language": "python",
   "name": "python3"
  },
  "language_info": {
   "codemirror_mode": {
    "name": "ipython",
    "version": 3
   },
   "file_extension": ".py",
   "mimetype": "text/x-python",
   "name": "python",
   "nbconvert_exporter": "python",
   "pygments_lexer": "ipython3",
   "version": "3.6.1"
  }
 },
 "nbformat": 4,
 "nbformat_minor": 2
}
