{
 "cells": [
  {
   "cell_type": "markdown",
   "metadata": {},
   "source": [
    "# Recipe 5 - Writing Our First Classifier"
   ]
  },
  {
   "cell_type": "markdown",
   "metadata": {},
   "source": [
    "<a href=\"https://www.youtube.com/watch?v=AoeEHqVSNOw\n",
    "\" target=\"\\_blank\"><img src=\"http://img.youtube.com/vi/AoeEHqVSNOw/0.jpg\" \n",
    "width=\"480\" height=\"360\" border=\"10\" /></a>\n",
    "\n",
    "---\n",
    "\n",
    "__Description:__ We create our own KNN classifier. We use some of the code from Recipe 4 because classifiers tend to have the same interface for using them. The actual classifier itself we write from scratch."
   ]
  },
  {
   "cell_type": "code",
   "execution_count": 11,
   "metadata": {},
   "outputs": [],
   "source": [
    "import random\n",
    "\n",
    "# Lets create a random classifier first\n",
    "class ScrappyKNNRandom():\n",
    "    \n",
    "    # This function just takes in the data\n",
    "    def fit(self, x_train, y_train):\n",
    "        self.x_train = x_train\n",
    "        self.y_train = y_train\n",
    "    \n",
    "    # This function gives a random choice for each dataset\n",
    "    def predict(self, x_test):\n",
    "        predictions = []\n",
    "        for row in x_test:\n",
    "            label = random.choice(self.y_train) #Choose a random label\n",
    "            predictions.append(label)\n",
    "        \n",
    "        return predictions\n",
    "\n",
    "from scipy.spatial import distance\n",
    "\n",
    "def euc(a,b):\n",
    "    return distance.euclidean(a,b)\n",
    "\n",
    "# Lets create a real classifier next\n",
    "class ScrappyKNN():\n",
    "    \n",
    "    # This function just takes in the data\n",
    "    def fit(self, x_train, y_train):\n",
    "        self.x_train = x_train\n",
    "        self.y_train = y_train\n",
    "    \n",
    "    # This function applies an algorithm to predict\n",
    "    def predict(self, x_test):\n",
    "        predictions = []\n",
    "        for row in x_test:\n",
    "            label = self.closest(row) #Take each row of data and find it's closest point to find out what it is\n",
    "            predictions.append(label)\n",
    "        \n",
    "        return predictions\n",
    "    \n",
    "    # This function iterates through each element in our training data and finds the smallest distance.\n",
    "    def closest(self, row):\n",
    "        best_dist = euc(row, self.x_train[0])\n",
    "        best_index = 0\n",
    "        for i in range(1, len(self.x_train)):\n",
    "            dist = euc(row, self.x_train[i])\n",
    "            if dist < best_dist:\n",
    "                best_dist = dist\n",
    "                best_index = i\n",
    "        return self.y_train[best_index]"
   ]
  },
  {
   "cell_type": "code",
   "execution_count": 12,
   "metadata": {},
   "outputs": [
    {
     "name": "stdout",
     "output_type": "stream",
     "text": [
      "The accuracy of our random classifier is 0.24\n",
      "The accuracy of our real classifier is 0.946666666667\n"
     ]
    }
   ],
   "source": [
    "from sklearn import datasets\n",
    "iris = datasets.load_iris()\n",
    "\n",
    "x = iris.data\n",
    "y = iris.target\n",
    "\n",
    "from sklearn.cross_validation import train_test_split\n",
    "x_train, x_test, y_train, y_test = train_test_split(x, y, test_size = .5) #Split training data in half\n",
    "\n",
    "\n",
    "#from sklearn.neighbors import KNeighborsClassifier\n",
    "my_classifier1 = ScrappyKNNRandom()\n",
    "my_classifier1.fit(x_train, y_train)\n",
    "\n",
    "predictions = my_classifier1.predict(x_test)\n",
    "\n",
    "from sklearn.metrics import accuracy_score\n",
    "print(\"The accuracy of our random classifier is\", accuracy_score(y_test, predictions))\n",
    "\n",
    "\n",
    "my_classifier2 = ScrappyKNN()\n",
    "my_classifier2.fit(x_train, y_train)\n",
    "\n",
    "predictions = my_classifier2.predict(x_test)\n",
    "print(\"The accuracy of our real classifier is\", accuracy_score(y_test, predictions))"
   ]
  },
  {
   "cell_type": "markdown",
   "metadata": {},
   "source": [
    "## KNN Classifier\n",
    "__Description:__ In short the KNN classifier finds the nearest datapoint near an object and considers that as a possible label. The accuracy of a KNN classifier may depend on the number of neighbors, \"K\". For instance if a datapoint is in the middle between two neighbors, then maybe you might need to find out which label is in the majority within a group of the nearest 11 neighbors.\n",
    "\n",
    "__Pros__\n",
    "- Relatively simple\n",
    "\n",
    "__Con__\n",
    "- Computationally intensive (iterating through a lot)\n",
    "- Hard to represent relationships between features"
   ]
  }
 ],
 "metadata": {
  "kernelspec": {
   "display_name": "Python 3",
   "language": "python",
   "name": "python3"
  },
  "language_info": {
   "codemirror_mode": {
    "name": "ipython",
    "version": 3
   },
   "file_extension": ".py",
   "mimetype": "text/x-python",
   "name": "python",
   "nbconvert_exporter": "python",
   "pygments_lexer": "ipython3",
   "version": "3.6.1"
  }
 },
 "nbformat": 4,
 "nbformat_minor": 2
}
